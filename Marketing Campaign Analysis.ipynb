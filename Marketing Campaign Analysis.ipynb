{
 "cells": [
  {
   "cell_type": "code",
   "execution_count": 1,
   "id": "0c152351-d89d-4a6f-b5d8-df56c6d88f60",
   "metadata": {},
   "outputs": [
    {
     "name": "stdout",
     "output_type": "stream",
     "text": [
      "Requirement already satisfied: pyodbc in c:\\users\\owner\\appdata\\local\\programs\\python\\python310\\lib\\site-packages (5.2.0)Note: you may need to restart the kernel to use updated packages.\n"
     ]
    },
    {
     "name": "stderr",
     "output_type": "stream",
     "text": [
      "\n",
      "[notice] A new release of pip is available: 23.0.1 -> 25.1.1\n",
      "[notice] To update, run: python.exe -m pip install --upgrade pip\n"
     ]
    },
    {
     "name": "stdout",
     "output_type": "stream",
     "text": [
      "\n"
     ]
    }
   ],
   "source": [
    "pip install pyodbc"
   ]
  },
  {
   "cell_type": "code",
   "execution_count": 2,
   "id": "a950685f-621a-4592-95ef-b6c60c308ade",
   "metadata": {},
   "outputs": [
    {
     "name": "stdout",
     "output_type": "stream",
     "text": [
      "Note: you may need to restart the kernel to use updated packages.Requirement already satisfied: nltk in c:\\users\\owner\\appdata\\local\\programs\\python\\python310\\lib\\site-packages (3.9.1)\n",
      "Requirement already satisfied: joblib in c:\\users\\owner\\appdata\\local\\programs\\python\\python310\\lib\\site-packages (from nltk) (1.4.2)\n",
      "Requirement already satisfied: click in c:\\users\\owner\\appdata\\local\\programs\\python\\python310\\lib\\site-packages (from nltk) (8.1.8)\n",
      "Requirement already satisfied: regex>=2021.8.3 in c:\\users\\owner\\appdata\\local\\programs\\python\\python310\\lib\\site-packages (from nltk) (2024.11.6)\n",
      "Requirement already satisfied: tqdm in c:\\users\\owner\\appdata\\local\\programs\\python\\python310\\lib\\site-packages (from nltk) (4.67.1)\n",
      "Requirement already satisfied: colorama in c:\\users\\owner\\appdata\\local\\programs\\python\\python310\\lib\\site-packages (from click->nltk) (0.4.6)\n",
      "\n"
     ]
    },
    {
     "name": "stderr",
     "output_type": "stream",
     "text": [
      "\n",
      "[notice] A new release of pip is available: 23.0.1 -> 25.1.1\n",
      "[notice] To update, run: python.exe -m pip install --upgrade pip\n"
     ]
    }
   ],
   "source": [
    "pip install nltk"
   ]
  },
  {
   "cell_type": "code",
   "execution_count": 3,
   "id": "2663eb03-673a-44f4-9518-3bbc882eb2b6",
   "metadata": {},
   "outputs": [],
   "source": [
    "import pandas as pd\n",
    "import pyodbc\n",
    "import nltk\n",
    "from nltk.sentiment.vader import SentimentIntensityAnalyzer"
   ]
  },
  {
   "cell_type": "code",
   "execution_count": 4,
   "id": "19453c6e-1d44-4c41-9a1d-a72f63756cc7",
   "metadata": {},
   "outputs": [
    {
     "name": "stderr",
     "output_type": "stream",
     "text": [
      "[nltk_data] Downloading package vader_lexicon to\n",
      "[nltk_data]     C:\\Users\\Owner\\AppData\\Roaming\\nltk_data...\n",
      "[nltk_data]   Package vader_lexicon is already up-to-date!\n"
     ]
    }
   ],
   "source": [
    "nltk.download('vader_lexicon')\n",
    "sia = SentimentIntensityAnalyzer()"
   ]
  },
  {
   "cell_type": "code",
   "execution_count": 5,
   "id": "c1c73222-508b-4980-9e4a-932753962b98",
   "metadata": {},
   "outputs": [
    {
     "data": {
      "text/plain": [
       "{'neg': 0.0, 'neu': 0.488, 'pos': 0.512, 'compound': 0.6369}"
      ]
     },
     "execution_count": 5,
     "metadata": {},
     "output_type": "execute_result"
    }
   ],
   "source": [
    "text = 'I love the book very much'\n",
    "score = sia.polarity_scores(text)\n",
    "score"
   ]
  },
  {
   "cell_type": "code",
   "execution_count": 7,
   "id": "7b66a0ec-3b37-4f7d-b040-f56804006068",
   "metadata": {},
   "outputs": [
    {
     "data": {
      "text/plain": [
       "0.6369"
      ]
     },
     "execution_count": 7,
     "metadata": {},
     "output_type": "execute_result"
    }
   ],
   "source": [
    "compound = score['compound']\n",
    "compound"
   ]
  },
  {
   "cell_type": "code",
   "execution_count": 6,
   "id": "293bb9ab-e3a3-4d26-922b-7912db2123b6",
   "metadata": {},
   "outputs": [],
   "source": [
    "# establish connection between sql and python\n",
    "conn = pyodbc.connect(\n",
    "'Driver={ODBC Driver 17 for SQL Server};'\n",
    "'Server=localhost\\\\SQLEXPRESS;'\n",
    "'Database=PortfolioProject_MarketingAnalytics;'\n",
    "'Trusted_Connection=yes;'\n",
    ")"
   ]
  },
  {
   "cell_type": "code",
   "execution_count": 7,
   "id": "c1d24ffa-632e-469d-8180-813fb9f0ea0d",
   "metadata": {},
   "outputs": [
    {
     "name": "stderr",
     "output_type": "stream",
     "text": [
      "C:\\Users\\Owner\\AppData\\Local\\Temp\\ipykernel_12312\\1763793178.py:10: UserWarning: pandas only supports SQLAlchemy connectable (engine/connection) or database string URI or sqlite3 DBAPI2 connection. Other DBAPI2 objects are not tested. Please consider using SQLAlchemy.\n",
      "  df= pd.read_sql (query,conn)\n"
     ]
    },
    {
     "data": {
      "text/html": [
       "<div>\n",
       "<style scoped>\n",
       "    .dataframe tbody tr th:only-of-type {\n",
       "        vertical-align: middle;\n",
       "    }\n",
       "\n",
       "    .dataframe tbody tr th {\n",
       "        vertical-align: top;\n",
       "    }\n",
       "\n",
       "    .dataframe thead th {\n",
       "        text-align: right;\n",
       "    }\n",
       "</style>\n",
       "<table border=\"1\" class=\"dataframe\">\n",
       "  <thead>\n",
       "    <tr style=\"text-align: right;\">\n",
       "      <th></th>\n",
       "      <th>ReviewID</th>\n",
       "      <th>ReviewDate</th>\n",
       "      <th>CustomerID</th>\n",
       "      <th>ProductID</th>\n",
       "      <th>Rating</th>\n",
       "      <th>ReviewText</th>\n",
       "    </tr>\n",
       "  </thead>\n",
       "  <tbody>\n",
       "    <tr>\n",
       "      <th>0</th>\n",
       "      <td>1</td>\n",
       "      <td>2023-12-23</td>\n",
       "      <td>77</td>\n",
       "      <td>18</td>\n",
       "      <td>3</td>\n",
       "      <td>Average experience, nothing special.</td>\n",
       "    </tr>\n",
       "    <tr>\n",
       "      <th>1</th>\n",
       "      <td>2</td>\n",
       "      <td>2024-12-25</td>\n",
       "      <td>80</td>\n",
       "      <td>19</td>\n",
       "      <td>5</td>\n",
       "      <td>The quality is  top-notch.</td>\n",
       "    </tr>\n",
       "    <tr>\n",
       "      <th>2</th>\n",
       "      <td>3</td>\n",
       "      <td>2025-01-26</td>\n",
       "      <td>50</td>\n",
       "      <td>13</td>\n",
       "      <td>4</td>\n",
       "      <td>Five stars for the quick delivery.</td>\n",
       "    </tr>\n",
       "    <tr>\n",
       "      <th>3</th>\n",
       "      <td>4</td>\n",
       "      <td>2025-04-21</td>\n",
       "      <td>78</td>\n",
       "      <td>15</td>\n",
       "      <td>3</td>\n",
       "      <td>Good quality, but could be cheaper.</td>\n",
       "    </tr>\n",
       "    <tr>\n",
       "      <th>4</th>\n",
       "      <td>5</td>\n",
       "      <td>2023-07-16</td>\n",
       "      <td>64</td>\n",
       "      <td>2</td>\n",
       "      <td>3</td>\n",
       "      <td>Average experience, nothing special.</td>\n",
       "    </tr>\n",
       "  </tbody>\n",
       "</table>\n",
       "</div>"
      ],
      "text/plain": [
       "   ReviewID  ReviewDate  CustomerID  ProductID  Rating  \\\n",
       "0         1  2023-12-23          77         18       3   \n",
       "1         2  2024-12-25          80         19       5   \n",
       "2         3  2025-01-26          50         13       4   \n",
       "3         4  2025-04-21          78         15       3   \n",
       "4         5  2023-07-16          64          2       3   \n",
       "\n",
       "                             ReviewText  \n",
       "0  Average experience, nothing special.  \n",
       "1            The quality is  top-notch.  \n",
       "2    Five stars for the quick delivery.  \n",
       "3   Good quality, but could be cheaper.  \n",
       "4  Average experience, nothing special.  "
      ]
     },
     "execution_count": 7,
     "metadata": {},
     "output_type": "execute_result"
    }
   ],
   "source": [
    "query = \"\"\"\n",
    " SELECT [ReviewID]\n",
    "      ,[ReviewDate]\n",
    "      ,[CustomerID]\n",
    "      ,[ProductID]\n",
    "      ,[Rating]\n",
    "      ,REPLACE(ReviewText,'  ',' ') as ReviewText\n",
    "  FROM [PortfolioProject_MarketingAnalytics].[dbo].[customer_reviews]\n",
    "\"\"\"\n",
    "df= pd.read_sql (query,conn)\n",
    "df.head()"
   ]
  },
  {
   "cell_type": "code",
   "execution_count": 8,
   "id": "b4ed5627-1163-43f0-afb9-64c3d6488257",
   "metadata": {},
   "outputs": [],
   "source": [
    "# approach 1\n",
    "df['Score'] = df['ReviewText'].apply(lambda x: sia.polarity_scores(x)['compound'])\n"
   ]
  },
  {
   "cell_type": "code",
   "execution_count": null,
   "id": "790796af-826e-4958-9e3c-74f0d9897972",
   "metadata": {},
   "outputs": [],
   "source": []
  },
  {
   "cell_type": "code",
   "execution_count": 9,
   "id": "d1e953c5-df68-4802-8a6d-157bbc8f2cbb",
   "metadata": {},
   "outputs": [],
   "source": [
    "def sentiment_category(score,rating):\n",
    "    if score> 0.05:\n",
    "        if rating >=4:\n",
    "            return 'Positive'\n",
    "        elif rating == 3:\n",
    "            return 'Mixed positive'\n",
    "        else:\n",
    "            return 'Mixed negative'\n",
    "    elif score < -0.05:\n",
    "        if rating <= 2:\n",
    "            return 'Negative'\n",
    "        elif rating == 3:\n",
    "            return 'Mixed negative'\n",
    "        else:\n",
    "            return 'Mixed positive'\n",
    "    else:\n",
    "        if rating >= 4:\n",
    "            return 'Positive'\n",
    "        elif rating <=2:\n",
    "            return 'Negative'\n",
    "        else:\n",
    "            return 'Neutral'\n",
    "            \n",
    "        "
   ]
  },
  {
   "cell_type": "code",
   "execution_count": 10,
   "id": "c6dd7f1b-0d68-48d0-8bc0-708864b42c16",
   "metadata": {},
   "outputs": [],
   "source": [
    "def sentiment_bucket (score):\n",
    "    if score >= 0.5:\n",
    "        return '0.5-1.0'\n",
    "    elif 0.0 <= score < 0.5:\n",
    "        return '0.0-0.49'\n",
    "    elif -0.5< score < 0.0:\n",
    "        return '-0.49-0.0'\n",
    "    else:\n",
    "        return '-1-0.5'"
   ]
  },
  {
   "cell_type": "code",
   "execution_count": 11,
   "id": "14009ad9-cf8b-4df4-95a6-0f62f5301e73",
   "metadata": {},
   "outputs": [],
   "source": [
    "df['Sentiment_category']= df.apply(lambda row: sentiment_category(row['Score'],row['Rating']),axis = 1)"
   ]
  },
  {
   "cell_type": "code",
   "execution_count": 80,
   "id": "e1b29a39-07c0-417e-9dc1-e651289e87cf",
   "metadata": {},
   "outputs": [],
   "source": []
  },
  {
   "cell_type": "code",
   "execution_count": 12,
   "id": "bf4076a3-e553-46db-a17c-148f52371037",
   "metadata": {},
   "outputs": [],
   "source": [
    "df['Sentiment_bucket'] = df['Score'].apply(lambda x:sentiment_bucket(x))"
   ]
  },
  {
   "cell_type": "code",
   "execution_count": 14,
   "id": "23c6dfab-b51a-4e9b-b0a5-c4b5446a7569",
   "metadata": {},
   "outputs": [
    {
     "data": {
      "text/html": [
       "<div>\n",
       "<style scoped>\n",
       "    .dataframe tbody tr th:only-of-type {\n",
       "        vertical-align: middle;\n",
       "    }\n",
       "\n",
       "    .dataframe tbody tr th {\n",
       "        vertical-align: top;\n",
       "    }\n",
       "\n",
       "    .dataframe thead th {\n",
       "        text-align: right;\n",
       "    }\n",
       "</style>\n",
       "<table border=\"1\" class=\"dataframe\">\n",
       "  <thead>\n",
       "    <tr style=\"text-align: right;\">\n",
       "      <th></th>\n",
       "      <th>ReviewID</th>\n",
       "      <th>ReviewDate</th>\n",
       "      <th>CustomerID</th>\n",
       "      <th>ProductID</th>\n",
       "      <th>Rating</th>\n",
       "      <th>ReviewText</th>\n",
       "      <th>Score</th>\n",
       "      <th>Sentiment_category</th>\n",
       "      <th>Sentiment_bucket</th>\n",
       "    </tr>\n",
       "  </thead>\n",
       "  <tbody>\n",
       "    <tr>\n",
       "      <th>0</th>\n",
       "      <td>1</td>\n",
       "      <td>2023-12-23</td>\n",
       "      <td>77</td>\n",
       "      <td>18</td>\n",
       "      <td>3</td>\n",
       "      <td>Average experience, nothing special.</td>\n",
       "      <td>-0.3089</td>\n",
       "      <td>Mixed negative</td>\n",
       "      <td>-0.49-0.0</td>\n",
       "    </tr>\n",
       "    <tr>\n",
       "      <th>1</th>\n",
       "      <td>2</td>\n",
       "      <td>2024-12-25</td>\n",
       "      <td>80</td>\n",
       "      <td>19</td>\n",
       "      <td>5</td>\n",
       "      <td>The quality is  top-notch.</td>\n",
       "      <td>0.0000</td>\n",
       "      <td>Positive</td>\n",
       "      <td>0.0-0.49</td>\n",
       "    </tr>\n",
       "    <tr>\n",
       "      <th>2</th>\n",
       "      <td>3</td>\n",
       "      <td>2025-01-26</td>\n",
       "      <td>50</td>\n",
       "      <td>13</td>\n",
       "      <td>4</td>\n",
       "      <td>Five stars for the quick delivery.</td>\n",
       "      <td>0.0000</td>\n",
       "      <td>Positive</td>\n",
       "      <td>0.0-0.49</td>\n",
       "    </tr>\n",
       "    <tr>\n",
       "      <th>3</th>\n",
       "      <td>4</td>\n",
       "      <td>2025-04-21</td>\n",
       "      <td>78</td>\n",
       "      <td>15</td>\n",
       "      <td>3</td>\n",
       "      <td>Good quality, but could be cheaper.</td>\n",
       "      <td>0.2382</td>\n",
       "      <td>Mixed positive</td>\n",
       "      <td>0.0-0.49</td>\n",
       "    </tr>\n",
       "    <tr>\n",
       "      <th>4</th>\n",
       "      <td>5</td>\n",
       "      <td>2023-07-16</td>\n",
       "      <td>64</td>\n",
       "      <td>2</td>\n",
       "      <td>3</td>\n",
       "      <td>Average experience, nothing special.</td>\n",
       "      <td>-0.3089</td>\n",
       "      <td>Mixed negative</td>\n",
       "      <td>-0.49-0.0</td>\n",
       "    </tr>\n",
       "    <tr>\n",
       "      <th>...</th>\n",
       "      <td>...</td>\n",
       "      <td>...</td>\n",
       "      <td>...</td>\n",
       "      <td>...</td>\n",
       "      <td>...</td>\n",
       "      <td>...</td>\n",
       "      <td>...</td>\n",
       "      <td>...</td>\n",
       "      <td>...</td>\n",
       "    </tr>\n",
       "    <tr>\n",
       "      <th>1358</th>\n",
       "      <td>1359</td>\n",
       "      <td>2023-05-25</td>\n",
       "      <td>28</td>\n",
       "      <td>4</td>\n",
       "      <td>3</td>\n",
       "      <td>Not worth the money.</td>\n",
       "      <td>-0.1695</td>\n",
       "      <td>Mixed negative</td>\n",
       "      <td>-0.49-0.0</td>\n",
       "    </tr>\n",
       "    <tr>\n",
       "      <th>1359</th>\n",
       "      <td>1360</td>\n",
       "      <td>2023-11-13</td>\n",
       "      <td>58</td>\n",
       "      <td>12</td>\n",
       "      <td>2</td>\n",
       "      <td>Average  experience, nothing special.</td>\n",
       "      <td>-0.3089</td>\n",
       "      <td>Negative</td>\n",
       "      <td>-0.49-0.0</td>\n",
       "    </tr>\n",
       "    <tr>\n",
       "      <th>1360</th>\n",
       "      <td>1361</td>\n",
       "      <td>2023-03-07</td>\n",
       "      <td>96</td>\n",
       "      <td>15</td>\n",
       "      <td>5</td>\n",
       "      <td>Customer support was very helpful.</td>\n",
       "      <td>0.6997</td>\n",
       "      <td>Positive</td>\n",
       "      <td>0.5-1.0</td>\n",
       "    </tr>\n",
       "    <tr>\n",
       "      <th>1361</th>\n",
       "      <td>1362</td>\n",
       "      <td>2025-12-03</td>\n",
       "      <td>99</td>\n",
       "      <td>2</td>\n",
       "      <td>1</td>\n",
       "      <td>Product did not meet my expectations.</td>\n",
       "      <td>0.0000</td>\n",
       "      <td>Negative</td>\n",
       "      <td>0.0-0.49</td>\n",
       "    </tr>\n",
       "    <tr>\n",
       "      <th>1362</th>\n",
       "      <td>1363</td>\n",
       "      <td>2024-07-16</td>\n",
       "      <td>16</td>\n",
       "      <td>4</td>\n",
       "      <td>2</td>\n",
       "      <td>The product arrived late.</td>\n",
       "      <td>0.0000</td>\n",
       "      <td>Negative</td>\n",
       "      <td>0.0-0.49</td>\n",
       "    </tr>\n",
       "  </tbody>\n",
       "</table>\n",
       "<p>1363 rows × 9 columns</p>\n",
       "</div>"
      ],
      "text/plain": [
       "      ReviewID  ReviewDate  CustomerID  ProductID  Rating  \\\n",
       "0            1  2023-12-23          77         18       3   \n",
       "1            2  2024-12-25          80         19       5   \n",
       "2            3  2025-01-26          50         13       4   \n",
       "3            4  2025-04-21          78         15       3   \n",
       "4            5  2023-07-16          64          2       3   \n",
       "...        ...         ...         ...        ...     ...   \n",
       "1358      1359  2023-05-25          28          4       3   \n",
       "1359      1360  2023-11-13          58         12       2   \n",
       "1360      1361  2023-03-07          96         15       5   \n",
       "1361      1362  2025-12-03          99          2       1   \n",
       "1362      1363  2024-07-16          16          4       2   \n",
       "\n",
       "                                 ReviewText   Score Sentiment_category  \\\n",
       "0      Average experience, nothing special. -0.3089     Mixed negative   \n",
       "1                The quality is  top-notch.  0.0000           Positive   \n",
       "2        Five stars for the quick delivery.  0.0000           Positive   \n",
       "3       Good quality, but could be cheaper.  0.2382     Mixed positive   \n",
       "4      Average experience, nothing special. -0.3089     Mixed negative   \n",
       "...                                     ...     ...                ...   \n",
       "1358                   Not worth the money. -0.1695     Mixed negative   \n",
       "1359  Average  experience, nothing special. -0.3089           Negative   \n",
       "1360     Customer support was very helpful.  0.6997           Positive   \n",
       "1361  Product did not meet my expectations.  0.0000           Negative   \n",
       "1362              The product arrived late.  0.0000           Negative   \n",
       "\n",
       "     Sentiment_bucket  \n",
       "0           -0.49-0.0  \n",
       "1            0.0-0.49  \n",
       "2            0.0-0.49  \n",
       "3            0.0-0.49  \n",
       "4           -0.49-0.0  \n",
       "...               ...  \n",
       "1358        -0.49-0.0  \n",
       "1359        -0.49-0.0  \n",
       "1360          0.5-1.0  \n",
       "1361         0.0-0.49  \n",
       "1362         0.0-0.49  \n",
       "\n",
       "[1363 rows x 9 columns]"
      ]
     },
     "execution_count": 14,
     "metadata": {},
     "output_type": "execute_result"
    }
   ],
   "source": [
    "df"
   ]
  },
  {
   "cell_type": "code",
   "execution_count": 15,
   "id": "773a0dcc-4125-4223-93b0-3e4e04c3a302",
   "metadata": {},
   "outputs": [],
   "source": [
    "df.to_csv('Customer_review_sentiment.csv',index = False)"
   ]
  },
  {
   "cell_type": "code",
   "execution_count": null,
   "id": "259619b6-863a-4a0b-9a63-39bd9b5b7b90",
   "metadata": {},
   "outputs": [],
   "source": []
  },
  {
   "cell_type": "code",
   "execution_count": null,
   "id": "1de0148d-221b-4e7d-896f-169d1580af69",
   "metadata": {},
   "outputs": [],
   "source": []
  },
  {
   "cell_type": "code",
   "execution_count": null,
   "id": "d75b5499-d79f-48b7-94d1-f9e52734d296",
   "metadata": {},
   "outputs": [],
   "source": []
  },
  {
   "cell_type": "code",
   "execution_count": null,
   "id": "74796764-6780-4e4f-904c-74b3d4fc9131",
   "metadata": {},
   "outputs": [],
   "source": []
  },
  {
   "cell_type": "code",
   "execution_count": null,
   "id": "52fa8dd0-51ec-4582-821c-9ab1a5f7423d",
   "metadata": {},
   "outputs": [],
   "source": []
  },
  {
   "cell_type": "code",
   "execution_count": null,
   "id": "35c8905f-5187-41ad-a12b-06f474c050f0",
   "metadata": {},
   "outputs": [],
   "source": []
  },
  {
   "cell_type": "code",
   "execution_count": null,
   "id": "4041d260-e127-4808-9439-78cf81e79d9d",
   "metadata": {},
   "outputs": [],
   "source": []
  }
 ],
 "metadata": {
  "kernelspec": {
   "display_name": "Python 3 (ipykernel)",
   "language": "python",
   "name": "python3"
  },
  "language_info": {
   "codemirror_mode": {
    "name": "ipython",
    "version": 3
   },
   "file_extension": ".py",
   "mimetype": "text/x-python",
   "name": "python",
   "nbconvert_exporter": "python",
   "pygments_lexer": "ipython3",
   "version": "3.10.11"
  }
 },
 "nbformat": 4,
 "nbformat_minor": 5
}
